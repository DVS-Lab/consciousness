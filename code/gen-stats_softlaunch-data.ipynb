{
 "cells": [
  {
   "cell_type": "code",
   "execution_count": 1,
   "id": "00ea6e25-7551-4926-89d0-b2998dff2fad",
   "metadata": {},
   "outputs": [],
   "source": [
    "# Compile dataframes from soft launch 1 & 2\n",
    "\n",
    "# Import necessary libraries\n",
    "import pandas as pd\n",
    "\n",
    "# Define file paths for both Excel sheets\n",
    "file1 = '~/Documents/Github/consciousness/code/Akanksha-consciousness_September-16-2024_10_40.xlsx'\n",
    "file2 = '~/Documents/Github/consciousness/code/Akanksha-Softlaunch-Data-File.xlsx'\n",
    "\n",
    "# Read in the first Excel file into a DataFrame\n",
    "df1 = pd.read_excel(file1)\n",
    "\n",
    "# Read in the second Excel file into a DataFrame (without skipping rows)\n",
    "df2 = pd.read_excel(file2)\n",
    "\n",
    "# Drop the first two rows from df1 & df2, assuming these are the unwanted header rows\n",
    "df1_cleaned = df1.drop([0, 1]).reset_index(drop=True)\n",
    "df2_cleaned = df2.drop([0, 1]).reset_index(drop=True)\n",
    "\n",
    "# Combine the two DataFrames by appending rows from df2_cleaned to df1\n",
    "# This will align matching columns and fill missing columns with NaN\n",
    "combined_df = pd.concat([df1_cleaned, df2_cleaned], axis=0, ignore_index=True, sort=False)\n",
    "\n",
    "# Save the combined DataFrame to a new Excel file in the same directory\n",
    "output_file = '~/Documents/Github/consciousness/code/softlaunch_compiled.xlsx'\n",
    "combined_df.to_excel(output_file, index=False)  # index=False prevents pandas from adding an extra index column\n",
    "\n",
    "# Display the combined DataFrame to ensure it's properly merged\n",
    "#print(combined_df.head())"
   ]
  },
  {
   "cell_type": "code",
   "execution_count": null,
   "id": "b2f4f633-f004-4735-b485-8b6f4f0eff5b",
   "metadata": {},
   "outputs": [],
   "source": [
    "# Convert phenotypes: FFMQ (Five Facet Mindfulness Questionnaire; \n",
    "\n"
   ]
  }
 ],
 "metadata": {
  "kernelspec": {
   "display_name": "Python 3 (ipykernel)",
   "language": "python",
   "name": "python3"
  },
  "language_info": {
   "codemirror_mode": {
    "name": "ipython",
    "version": 3
   },
   "file_extension": ".py",
   "mimetype": "text/x-python",
   "name": "python",
   "nbconvert_exporter": "python",
   "pygments_lexer": "ipython3",
   "version": "3.12.4"
  }
 },
 "nbformat": 4,
 "nbformat_minor": 5
}
